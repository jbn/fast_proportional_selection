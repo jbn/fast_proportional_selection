{
 "cells": [
  {
   "cell_type": "markdown",
   "metadata": {},
   "source": [
    "Fast Proportional Selection\n",
    "==="
   ]
  },
  {
   "cell_type": "markdown",
   "metadata": {},
   "source": [
    "[RETWEET]\n",
    "\n",
    "Proportional selection -- or, roulette wheel selection -- comes up frequently when developing agent-based models. Based on the code I have read over the years, researchers tend to write proportional selection as either a linear walk or a bisecting search. I compare the two approaches, then introduce Lipowski and Lipowska's [stochastic acceptance algorithm](http://arxiv.org/abs/1109.3627). For most of our uses, I argue that their algorithm is a better choice. "
   ]
  },
  {
   "cell_type": "markdown",
   "metadata": {},
   "source": [
    "Preliminaries\n",
    "---\n",
    "I will only use Python's internal random module for random number generation. I include numpy and pandas convenience only when running demos. I import seaborne because it overrides some matplotlib defaults in a pretty way. "
   ]
  },
  {
   "cell_type": "code",
   "execution_count": 2,
   "metadata": {
    "collapsed": true
   },
   "outputs": [],
   "source": [
    "import random\n",
    "from bisect import bisect_left\n",
    "import matplotlib.pyplot as plt\n",
    "import numpy as np\n",
    "import pandas as pd\n",
    "import seaborn as sns\n",
    "\n",
    "%matplotlib inline"
   ]
  },
  {
   "cell_type": "markdown",
   "metadata": {},
   "source": [
    "A Proportional Selection Base Class\n",
    "---\n",
    "I am interested in testing how the different algorithms perform when *implemented* and *used*. Algorithmic analysis gives us asymptotic estimations. From these, we know which algorithm should be the fastest, in the limit. But, for trivial values of $n$, asymptotics can be misleading. $O(1)$ is not always faster than $O(n)$. $O(1)$ is really $O(c)$, and $c$ can be very costly!\n",
    "\n",
    "I use a base class, `ProportionalSelection`, to generate an equal playing field. This class takes the size of the vector of frequencies representing a distribution. I use frequencies because they are more natural to think about, and are easier to update. The client calls the `normalize` method any time the underlying frequencies change. Call the object like a dictionary to update a frequency."
   ]
  },
  {
   "cell_type": "code",
   "execution_count": 3,
   "metadata": {
    "collapsed": true
   },
   "outputs": [],
   "source": [
    "class PropSelection(object):\n",
    "    def __init__(self, n):\n",
    "        self._n = n\n",
    "        self._frequencies = [0] * n\n",
    "    \n",
    "    def copy_from(self, values):\n",
    "        assert len(values) == self._n\n",
    "        for i, x in enumerate(values):\n",
    "            self[i] = x\n",
    "            \n",
    "    def __getitem__(self, i):\n",
    "        return self._frequencies[i]\n",
    "    \n",
    "    def normalize(self):\n",
    "        pass"
   ]
  },
  {
   "cell_type": "markdown",
   "metadata": {},
   "source": [
    "Linear Walk\n",
    "---\n",
    "Sampling via linear walk is $O(n)$. The algorithm generates a random number between 0 and the sum of the frequencies. Then, it walks through the array of frequencies, producing a running total. At some point the running total exceeds the generated threshold. The index at that point is the selection. \n",
    "\n",
    "The algorithm has no cost associated with updates to the underlying frequency distribution. "
   ]
  },
  {
   "cell_type": "code",
   "execution_count": 4,
   "metadata": {
    "collapsed": false
   },
   "outputs": [],
   "source": [
    "class LinearWalk(PropSelection):\n",
    "    def __init__(self, n):\n",
    "        super(LinearWalk, self).__init__(n)\n",
    "        self._total = 0\n",
    "    \n",
    "    def __setitem__(self, i, x):\n",
    "        self._total += (x - self._frequencies[i])\n",
    "        self._frequencies[i] = x\n",
    "        \n",
    "    def sample(self):\n",
    "        terminal_cdf_point = random.randint(0, self._total - 1)\n",
    "        accumulator = 0\n",
    "        for i, k in enumerate(self._frequencies):\n",
    "            accumulator += k\n",
    "            if accumulator > terminal_cdf_point:\n",
    "                return i"
   ]
  },
  {
   "cell_type": "markdown",
   "metadata": {},
   "source": [
    "Bisecting Search\n",
    "---\n",
    "Sampling via bisecting search is $O(log~n)$. From an asymptotic perspective, this is better than a linear walk. However, the algorithm achieves this by spending some compute time up front. That is, before sampling occurs. It cannot sample directly over the frequency distribution. Instead, it transforms the frequencies into a cumulative density function (CDF). This is an $O(n)$ operation. It must occur every time an element in the frequency distribution changes. \n",
    "\n",
    "Given the CDF, the algorithm draws a random number from [0, 1). It then uses bisection to identify the insertion point in the CDF for this number. This point is the selected index."
   ]
  },
  {
   "cell_type": "code",
   "execution_count": 5,
   "metadata": {
    "collapsed": true
   },
   "outputs": [],
   "source": [
    "class BisectingSearch(PropSelection):\n",
    "    def __init__(self, n):\n",
    "        super(BisectingSearch, self).__init__(n)\n",
    "        self._cdf = None\n",
    "        self._total = 0\n",
    "    \n",
    "    def __setitem__(self, i, x):\n",
    "        self._total += (x - self._frequencies[i])\n",
    "        self._frequencies[i] = x\n",
    "        \n",
    "    def normalize(self):\n",
    "        total = float(sum(self._frequencies))\n",
    "        cdf = []\n",
    "        accumulator = 0.0\n",
    "        for x in self._frequencies:\n",
    "            accumulator += (x / float(total))\n",
    "            cdf.append(accumulator)\n",
    "        self._cdf = cdf\n",
    "        \n",
    "    def sample(self):\n",
    "        return bisect_left(self._cdf, random.random())"
   ]
  },
  {
   "cell_type": "markdown",
   "metadata": {},
   "source": [
    "Stochastic Acceptance\n",
    "---\n",
    "For sampling, stochastic acceptance is $O(1)$. With respect to time, this dominates both the linear walk and bisecting search methods. Yet, this is asymptotic. The algorithm generates many random numbers per selection. In fact, the number of random variates grows in proportion to $n$. So, the random number generator matters. \n",
    "\n",
    "This algorithm has another advantage. It can operate on the raw frequency distribution, like linear walk. It only needs to track the maximum value in the frequency distribution. "
   ]
  },
  {
   "cell_type": "code",
   "execution_count": 6,
   "metadata": {
    "collapsed": true
   },
   "outputs": [],
   "source": [
    "class StochasticAcceptance(PropSelection):\n",
    "    def __init__(self, n):\n",
    "        super(StochasticAcceptance, self).__init__(n)\n",
    "        self._max_value = 0\n",
    "    \n",
    "    def __setitem__(self, i, x):\n",
    "        last_x = self._frequencies[i]\n",
    "        \n",
    "        if x > self._max_value:\n",
    "            self._max_value = float(x)\n",
    "        elif last_x == self._max_value and x < last_x:\n",
    "            self._max_value = float(max(self._frequencies))\n",
    "            \n",
    "        self._frequencies[i] = x\n",
    "        \n",
    "    def sample(self):\n",
    "        n = self._n\n",
    "        max_value = self._max_value\n",
    "        freqs = self._frequencies\n",
    "        \n",
    "        while True:\n",
    "            i = int(n * random.random())\n",
    "            if random.random() < freqs[i] / max_value:\n",
    "                return i"
   ]
  },
  {
   "cell_type": "markdown",
   "metadata": {},
   "source": [
    "First Demonstration: Sampling\n",
    "---\n",
    "The following code generates a target frequency distribution. Then, it instantiates each algorithm; copies the frequency distribution; and, draws 10,000 samples. For each algorithm, this code compiles the resulting probability distribution. For comparison, I plot these side by side. In the figure below, the target distribution is to the left (green). The linear walk, bisecting search, and stochastic acceptance algorithms are to the right of the targert distribution (blue). \n",
    "\n",
    "Visually, there is a compelling case for the distributions being equal."
   ]
  },
  {
   "cell_type": "code",
   "execution_count": 17,
   "metadata": {
    "collapsed": false
   },
   "outputs": [
    {
     "data": {
      "image/png": "[encoded data removed]",
      "text/plain": [
       "<matplotlib.figure.Figure at 0x10c81ad10>"
      ]
     },
     "metadata": {},
     "output_type": "display_data"
    }
   ],
   "source": [
    "fig, ax = plt.subplots(1, 4, sharey=True, figsize=(10,2))\n",
    "\n",
    "def plot_proportions(xs, ax, **kwargs):\n",
    "    xs = pd.Series(xs)\n",
    "    xs /= xs.sum()\n",
    "    return xs.plot(kind='bar', ax=ax, **kwargs)\n",
    "\n",
    "def sample_and_plot(roulette_algo, ax, n_samples=10000, **kwargs):\n",
    "    samples = [roulette_algo.sample() for _ in range(n_samples)]\n",
    "    value_counts = pd.Series(samples).value_counts().sort_index()\n",
    "    props = (value_counts / value_counts.sum())\n",
    "    props.plot(kind='bar', ax=ax, **kwargs)\n",
    "    return samples\n",
    "\n",
    "freqs = np.random.randint(1, 100, 10)\n",
    "plot_proportions(freqs, \n",
    "                 ax[0], \n",
    "                 color=sns.color_palette()[1],\n",
    "                 title=\"Target Distribution\")\n",
    "\n",
    "klasses = [LinearWalk, BisectingSearch, StochasticAcceptance]\n",
    "for i, klass in enumerate(klasses):\n",
    "    algo = klass(len(freqs))\n",
    "    algo.copy_from(freqs)\n",
    "    algo.normalize()\n",
    "    \n",
    "    name = algo.__class__.__name__\n",
    "    xs = sample_and_plot(algo, ax=plt.subplot(ax[i+1]), title=name)"
   ]
  },
  {
   "cell_type": "markdown",
   "metadata": {},
   "source": [
    "Second Demonstration: Performance Testing\n",
    "---\n",
    "The following code times the sample method for each algorithm. I am using the `timeit` module's `default_timer` for timing. For such fast functions, this may lead to measurement error. But, over 10,000 samples, I expect these errors to wash out. "
   ]
  },
  {
   "cell_type": "code",
   "execution_count": 35,
   "metadata": {
    "collapsed": false
   },
   "outputs": [],
   "source": [
    "import timeit\n",
    "\n",
    "def sample_n_times(algo, n):\n",
    "    samples = []\n",
    "    for _ in range(n):\n",
    "        start = timeit.default_timer()\n",
    "        algo.sample()\n",
    "        samples.append(timeit.default_timer() - start)\n",
    "    return np.array(samples)\n",
    "\n",
    "\n",
    "timings = []\n",
    "for i, klass in enumerate(klasses):\n",
    "    algo = klass(len(freqs))\n",
    "    algo.copy_from(freqs)\n",
    "    algo.normalize()\n",
    "    \n",
    "    name = algo.__class__.__name__\n",
    "    \n",
    "    timings.append((name, sample_n_times(algo, 10000)))"
   ]
  },
  {
   "cell_type": "markdown",
   "metadata": {},
   "source": [
    "The graph immediately below plots the kernel density estimation of timings for each algorithm. I truncate the results, limiting the range to everything less than the 90th percentile. (I'll explain why momentarily.) Bisecting search appears to be the fastest and the most stable. This makes sense. It has nice worse-case properties. \n",
    "\n",
    "Stochastic acceptance and linear walk both display variability in timings. Again, the timer is not very precise. But, since bisecting search used the same timer, a comparison is possible. Linear walk has a worst case performance of $O(n)$. That is, if it starts at index 0 and generates the maximum value, it has to traverse the entire array. Bisecting search generates a stream of random numbers until finding an acceptable one. Technically, this algorithm has no limit. It could loop infinitely, waiting for a passing condition. But, probabilistically, this is fantastically unlikely. (Sometimes, you come across coders saying code like this is incorrect. That's pretty absurd. Most of the time, the probability of pathological conditions is so small, it's irrelevant. Most of the time, the machine running your code is more likely to crumb to dust before an error manifests.)\n",
    "\n",
    "For real-time code, timing variability matters. Introduce some jitter into something like a HFT algorithm, and you lose. But, for agent-based models and offline machine learning, variability doesn't matter. For us, averages matter.  "
   ]
  },
  {
   "cell_type": "code",
   "execution_count": 45,
   "metadata": {
    "collapsed": false
   },
   "outputs": [
    {
     "data": {
      "image/png": "[encoded data removed]",
      "text/plain": [
       "<matplotlib.figure.Figure at 0x10e41af10>"
      ]
     },
     "metadata": {},
     "output_type": "display_data"
    }
   ],
   "source": [
    "values = np.vstack([times for _, times in timings]).T\n",
    "values = values[np.all(values < np.percentile(values, 90, axis=0), axis=1)]\n",
    "sns.boxplot(values, names=[name for name, _ in timings]);"
   ]
  },
  {
   "cell_type": "markdown",
   "metadata": {},
   "source": [
    "The relationship between algorithms remains the same. But, the difference between linear walk and stochastic acceptance grows. Over the entire distribution, stochastic acceptance lags both linear walk and bisecting search."
   ]
  },
  {
   "cell_type": "code",
   "execution_count": 46,
   "metadata": {
    "collapsed": false
   },
   "outputs": [
    {
     "data": {
      "image/png": "[encoded data removed]",
      "text/plain": [
       "<matplotlib.figure.Figure at 0x10e891610>"
      ]
     },
     "metadata": {},
     "output_type": "display_data"
    }
   ],
   "source": [
    "values = np.vstack([times for _, times in timings]).T\n",
    "values = values[np.all(values > np.percentile(values, 90, axis=0), axis=1)]\n",
    "sns.boxplot(values, names=[name for name, _ in timings]);"
   ]
  },
  {
   "cell_type": "markdown",
   "metadata": {
    "collapsed": true
   },
   "source": [
    "Third Demonstration: Average Time as a Function of N\n",
    "---\n",
    "The previous demonstrations fixed n to 10. What happens as n increases?"
   ]
  },
  {
   "cell_type": "code",
   "execution_count": 61,
   "metadata": {
    "collapsed": false
   },
   "outputs": [],
   "source": [
    "import timeit\n",
    "\n",
    "def sample_n_times(algo, n):\n",
    "    samples = []\n",
    "    for _ in range(n):\n",
    "        start = timeit.default_timer()\n",
    "        algo.sample()\n",
    "        samples.append(timeit.default_timer() - start)\n",
    "    return np.array(samples)\n",
    "\n",
    "\n",
    "averages = []\n",
    "for n in [10, 100, 1000, 10000, 100000, 1000000]:\n",
    "    row = {'n': n}\n",
    "    freqs = np.random.randint(1, 100, n)\n",
    "    for i, klass in enumerate(klasses):\n",
    "        algo = klass(len(freqs))\n",
    "        algo.copy_from(freqs)\n",
    "        algo.normalize()\n",
    "\n",
    "        name = algo.__class__.__name__\n",
    "        row[name] = np.mean(sample_n_times(algo, 10000))\n",
    "    averages.append(row)"
   ]
  },
  {
   "cell_type": "markdown",
   "metadata": {},
   "source": [
    "The following graph plots the average time as a function of n, the number of elements in the distribution. There is nothing unexpected. Linear walk gets increasingly terrible. It's $O(n)$. Bisecting search out-performs Stochastic acceptance. They appear to be converging. But, this convergence occurs at the extreme end of n. Few simulations sample over a distribution of 1,000,00 values.  \n",
    "\n",
    "At this point, it seems like bisecting search is the best choice."
   ]
  },
  {
   "cell_type": "code",
   "execution_count": 73,
   "metadata": {
    "collapsed": false
   },
   "outputs": [
    {
     "data": {
      "image/png": "[encoded data removed]",
      "text/plain": [
       "<matplotlib.figure.Figure at 0x10e86d190>"
      ]
     },
     "metadata": {},
     "output_type": "display_data"
    }
   ],
   "source": [
    "averages_df = pd.DataFrame(averages).set_index('n')\n",
    "averages_df.plot(logy=True, logx=True, \n",
    "                 style={'BisectingSearch': 'o-',\n",
    "                        'LinearWalk': 's--',\n",
    "                        'StochasticAcceptance': 'd:'})#marker='o')\n",
    "plt.ylabel('$Average runtime$');"
   ]
  },
  {
   "cell_type": "markdown",
   "metadata": {},
   "source": [
    "Fourth Demonstration: Time Given a Dynamic Distribution\n",
    "---\n",
    "Many of my simulations use proportional selection with dynamic proportions. For example, consider preferential attachment in social network generation. Edges form probabilistically, proportional to a node's degree. But, when an edge forms, the degree changes as well. In this case, the distribution changes *for each sample*!\n",
    "\n",
    "Below, I repeat the previous experiment, but I change the distribution and call `normalize` before each sample. Bisecting search is now the loser in this race. After each frequency alteration, it runs an expensive $O(n)$ operation. Then, it still must run its $O(log~n)$ operation at sample time. Linear walk and stochastic acceptance incur almost no performance penalty for alterations. Linear walk merely updates the total count. And, stochastic acceptance only runs a calculation if the alteration reduces the maximum value. (This hints at an important exception. As the range of frequencies narrows and the number of elements increases, performance suffers. The number of $O(n)$ searches for the new maximum becomes expensive.)"
   ]
  },
  {
   "cell_type": "code",
   "execution_count": 84,
   "metadata": {
    "collapsed": false
   },
   "outputs": [],
   "source": [
    "import timeit\n",
    "\n",
    "def normalize_sample_n_times(algo, n_samples, n):\n",
    "    samples = []\n",
    "    for _ in range(n_samples):\n",
    "        algo[random.randint(0, n-1)] = random.randint(1, 100)\n",
    "        start = timeit.default_timer()\n",
    "        algo.normalize()\n",
    "        algo.sample()\n",
    "        samples.append(timeit.default_timer() - start)\n",
    "    return np.array(samples)\n",
    "\n",
    "\n",
    "averages = []\n",
    "for n in [10, 100, 1000, 10000, 100000]:\n",
    "    row = {'n': n}\n",
    "    freqs = np.random.randint(1, 100, n)\n",
    "    for i, klass in enumerate(klasses):\n",
    "        algo = klass(len(freqs))\n",
    "        algo.copy_from(freqs)\n",
    "        algo.normalize()\n",
    "\n",
    "        name = algo.__class__.__name__\n",
    "        row[name] = np.mean(normalize_sample_n_times(algo, 1000, n))\n",
    "    averages.append(row)"
   ]
  },
  {
   "cell_type": "code",
   "execution_count": 85,
   "metadata": {
    "collapsed": false
   },
   "outputs": [
    {
     "data": {
      "image/png": "[encoded data removed]",
      "text/plain": [
       "<matplotlib.figure.Figure at 0x10e7c0f90>"
      ]
     },
     "metadata": {},
     "output_type": "display_data"
    }
   ],
   "source": [
    "averages_df = pd.DataFrame(averages).set_index('n')\n",
    "averages_df.plot(logy=True, logx=True, \n",
    "                 style={'BisectingSearch': 'o-',\n",
    "                        'LinearWalk': 's--',\n",
    "                        'StochasticAcceptance': 'd:'})#marker='o')\n",
    "plt.ylabel('$Average runtime$');"
   ]
  },
  {
   "cell_type": "markdown",
   "metadata": {},
   "source": [
    "Conclusions\n",
    "---\n",
    "\n",
    "\"Premature optimization is the root of all evil.\" This is programmer's cannon -- The Gospel According to Knuth. Certainly, I'm not advocating for heresy. I wrote this post after a project of mine demanded better performance. Execution took too long. I did some profiling. It told me that proportional selection dominated execution time. So, partially, this notebook is a guide for modelers in similar situations. Given a dynamic distribution and proportional selection, stochastic acceptance has great performance. \n",
    "\n",
    "Outside of dynamic distributions, it does not dominate performance-wise in all cases. And, it is subject to jitter, making it questionable for real-time systems. But, it is robust across a variety of usage patterns. Furthermore, the algorithm is straight-forward to implement. The following code expresses it in it's simplest form. There are no dependencies, other than to a random number generator. And random number generation is a universal facility in programming languages. \n",
    "\n",
    "```python\n",
    "def random_proportional_selection(freqs, max_freq):\n",
    "    n = len(freqs)\n",
    "    \n",
    "    while True:\n",
    "        i = int(n * random.random())\n",
    "        if random.random() < (freqs[i] / float(max_freq)):\n",
    "            return i\n",
    "```\n",
    "\n",
    "Given these properties, I think it makes a good default approach to proportional selection. And, rewards accrue to those who collect good defaults.\n",
    "\n"
   ]
  }
 ],
 "metadata": {
  "kernelspec": {
   "display_name": "Python 2",
   "language": "python",
   "name": "python2"
  },
  "language_info": {
   "codemirror_mode": {
    "name": "ipython",
    "version": 2
   },
   "file_extension": ".py",
   "mimetype": "text/x-python",
   "name": "python",
   "nbconvert_exporter": "python",
   "pygments_lexer": "ipython2",
   "version": "2.7.9"
  }
 },
 "nbformat": 4,
 "nbformat_minor": 0
}
